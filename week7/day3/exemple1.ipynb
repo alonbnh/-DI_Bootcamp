{
 "cells": [
  {
   "cell_type": "code",
   "execution_count": 3,
   "id": "1a546a25",
   "metadata": {},
   "outputs": [],
   "source": [
    "import matplotlib.pyplot as plt\n",
    "import pandas as pd\n",
    "import ssl\n",
    "ssl._create_default_https_context = ssl._create_unverified_context\n",
    "import numpy as np"
   ]
  },
  {
   "cell_type": "code",
   "execution_count": 6,
   "id": "5ffa56c2",
   "metadata": {},
   "outputs": [],
   "source": [
    "data = pd.read_csv('https://raw.githubusercontent.com/mwaskom/seaborn-data/master/iris.csv')"
   ]
  },
  {
   "cell_type": "code",
   "execution_count": 8,
   "id": "ae2c59e3",
   "metadata": {},
   "outputs": [
    {
     "data": {
      "image/png": "[encoded data removed]",
      "text/plain": [
       "<Figure size 936x360 with 3 Axes>"
      ]
     },
     "metadata": {
      "needs_background": "light"
     },
     "output_type": "display_data"
    }
   ],
   "source": [
    "setosa_data = data[data.species == 'setosa']\n",
    "versicolor_data = data[data.species == 'versicolor']\n",
    "virginica_data = data[data.species == 'virginica']\n",
    "\n",
    "fig, ax=plt.subplots(1,3,figsize=(13, 5))\n",
    "\n",
    "\n",
    "ax[0].hist(setosa_data.petal_length, color='g', label = 'setosa')\n",
    "ax[1].hist(versicolor_data.petal_length, color='r', label = 'versicolor')\n",
    "ax[2].hist(virginica_data.petal_length, color='b', label = 'virginica')\n",
    "\n",
    "ax[0].legend()\n",
    "ax[1].legend()\n",
    "ax[2].legend()\n",
    "ax[0].set_ylabel('Frequency')\n",
    "ax[1].set_ylabel('Frequency')\n",
    "ax[2].set_ylabel('Frequency')\n",
    "ax[0].set_xlabel('petal length (cm)')\n",
    "ax[1].set_xlabel('petal length (cm)')\n",
    "ax[2].set_xlabel('petal length (cm)')\n",
    "\n",
    "plt.show()"
   ]
  },
  {
   "cell_type": "code",
   "execution_count": 4,
   "id": "5532a159",
   "metadata": {},
   "outputs": [],
   "source": [
    "lol= np.random.randint(0,75,(50,2))"
   ]
  },
  {
   "cell_type": "code",
   "execution_count": 5,
   "id": "f9692f04",
   "metadata": {},
   "outputs": [
    {
     "data": {
      "text/plain": [
       "array([[ 0,  9],\n",
       "       [74, 54],\n",
       "       [67, 30],\n",
       "       [50, 74],\n",
       "       [64, 22],\n",
       "       [13, 69],\n",
       "       [36, 17],\n",
       "       [36, 29],\n",
       "       [74, 57],\n",
       "       [16, 13],\n",
       "       [33,  7],\n",
       "       [57, 33],\n",
       "       [66, 23],\n",
       "       [34, 36],\n",
       "       [54, 68],\n",
       "       [35, 18],\n",
       "       [41,  8],\n",
       "       [51, 40],\n",
       "       [72, 40],\n",
       "       [41, 27],\n",
       "       [36, 30],\n",
       "       [ 1, 23],\n",
       "       [45, 26],\n",
       "       [61, 18],\n",
       "       [ 5,  3],\n",
       "       [43, 38],\n",
       "       [29,  0],\n",
       "       [19, 37],\n",
       "       [33,  7],\n",
       "       [58, 30],\n",
       "       [19, 41],\n",
       "       [ 4,  9],\n",
       "       [35, 19],\n",
       "       [59, 71],\n",
       "       [ 6, 39],\n",
       "       [72, 10],\n",
       "       [52, 15],\n",
       "       [ 9, 71],\n",
       "       [28,  8],\n",
       "       [48, 47],\n",
       "       [47, 23],\n",
       "       [24, 22],\n",
       "       [40, 17],\n",
       "       [70, 22],\n",
       "       [ 7, 50],\n",
       "       [55, 53],\n",
       "       [ 9, 56],\n",
       "       [ 6, 64],\n",
       "       [45,  7],\n",
       "       [49, 49]])"
      ]
     },
     "execution_count": 5,
     "metadata": {},
     "output_type": "execute_result"
    }
   ],
   "source": [
    "lol"
   ]
  },
  {
   "cell_type": "code",
   "execution_count": null,
   "id": "cfc5f566",
   "metadata": {},
   "outputs": [],
   "source": []
  }
 ],
 "metadata": {
  "kernelspec": {
   "display_name": "Python 3 (ipykernel)",
   "language": "python",
   "name": "python3"
  },
  "language_info": {
   "codemirror_mode": {
    "name": "ipython",
    "version": 3
   },
   "file_extension": ".py",
   "mimetype": "text/x-python",
   "name": "python",
   "nbconvert_exporter": "python",
   "pygments_lexer": "ipython3",
   "version": "3.10.5"
  }
 },
 "nbformat": 4,
 "nbformat_minor": 5
}

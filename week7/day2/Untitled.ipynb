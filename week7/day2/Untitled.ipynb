{
 "cells": [
  {
   "cell_type": "code",
   "execution_count": 3,
   "id": "0739d56c",
   "metadata": {},
   "outputs": [],
   "source": [
    "import pandas as pd\n",
    "import ssl\n",
    "ssl._create_default_https_context = ssl._create_unverified_context\n",
    "import numpy as np\n",
    "\n",
    "chipotable = pd.read_table('https://raw.githubusercontent.com/justmarkham/DAT8/master/data/chipotle.tsv')\n",
    "\n",
    "# print(chipotable.head(11))\n",
    "# print(chipotable.count())\n",
    "# print(len(chipotable.columns))\n",
    "# print(chipotable.columns)\n",
    "# Indexing in pandas means simply selecting particular rows and columns of data from a DataFrame. Indexing could mean selecting all the rows and some of the columns, some of the rows and all of the columns, or some of each of the rows and columns. Indexing can also be known as Subset Selection.\n",
    "# print(chipotable.sort_values('quantity', ascending=False).head(1).item_name)\n",
    "# items = chipotable[['item_name', 'quantity']].groupby('item_name').sum()\n",
    "# items.head()\n",
    "# print(items.sort_values(['quantity'], ascending = False))\n",
    "# print(chipotable['quantity'].agg(np.sum))\n",
    "# print(chipotable['choice_description'].mode())\n",
    "chipotable['item_price'] = chipotable['item_price'].apply(lambda x: float(x[1:-1]))"
   ]
  },
  {
   "cell_type": "code",
   "execution_count": 23,
   "id": "076b6b45",
   "metadata": {},
   "outputs": [
    {
     "name": "stdout",
     "output_type": "stream",
     "text": [
      "0    [Diet Coke]\n",
      "Name: choice_description, dtype: object\n"
     ]
    }
   ],
   "source": [
    "print(chipotable['choice_description'].mode())"
   ]
  },
  {
   "cell_type": "code",
   "execution_count": 24,
   "id": "eab852ec",
   "metadata": {},
   "outputs": [],
   "source": [
    "revenue = chipotable['quantity'].dot(chipotable['item_price'])"
   ]
  },
  {
   "cell_type": "code",
   "execution_count": 25,
   "id": "1f8cbc23",
   "metadata": {},
   "outputs": [
    {
     "name": "stdout",
     "output_type": "stream",
     "text": [
      "39237.02000000008\n"
     ]
    }
   ],
   "source": [
    "print(revenue)"
   ]
  },
  {
   "cell_type": "code",
   "execution_count": 28,
   "id": "a6f9f6b0",
   "metadata": {},
   "outputs": [
    {
     "name": "stdout",
     "output_type": "stream",
     "text": [
      "4622\n"
     ]
    }
   ],
   "source": [
    "print(chipotable['order_id'].count())"
   ]
  },
  {
   "cell_type": "code",
   "execution_count": 31,
   "id": "2a30c744",
   "metadata": {},
   "outputs": [
    {
     "data": {
      "text/plain": [
       "8.029571078511685"
      ]
     },
     "execution_count": 31,
     "metadata": {},
     "output_type": "execute_result"
    }
   ],
   "source": [
    "np.mean(chipotable['quantity']) * np.mean(chipotable['item_price'])"
   ]
  },
  {
   "cell_type": "code",
   "execution_count": 2,
   "id": "2af227e3",
   "metadata": {},
   "outputs": [
    {
     "ename": "NameError",
     "evalue": "name 'pd' is not defined",
     "output_type": "error",
     "traceback": [
      "\u001b[0;31m---------------------------------------------------------------------------\u001b[0m",
      "\u001b[0;31mNameError\u001b[0m                                 Traceback (most recent call last)",
      "Input \u001b[0;32mIn [2]\u001b[0m, in \u001b[0;36m<cell line: 1>\u001b[0;34m()\u001b[0m\n\u001b[0;32m----> 1\u001b[0m df\u001b[38;5;241m=\u001b[39m \u001b[43mpd\u001b[49m\u001b[38;5;241m.\u001b[39mread_table(\u001b[38;5;124m'\u001b[39m\u001b[38;5;124mhttps://raw.githubusercontent.com/justmarkham/DAT8/master/data/chipotle.tsv\u001b[39m\u001b[38;5;124m'\u001b[39m)\n",
      "\u001b[0;31mNameError\u001b[0m: name 'pd' is not defined"
     ]
    }
   ],
   "source": [
    "df= pd.read_table('https://raw.githubusercontent.com/justmarkham/DAT8/master/data/chipotle.tsv')"
   ]
  },
  {
   "cell_type": "code",
   "execution_count": 34,
   "id": "552ec8ae",
   "metadata": {},
   "outputs": [
    {
     "name": "stdout",
     "output_type": "stream",
     "text": [
      "0       False\n",
      "1       False\n",
      "2       False\n",
      "3       False\n",
      "4        True\n",
      "        ...  \n",
      "4617     True\n",
      "4618     True\n",
      "4619     True\n",
      "4620    False\n",
      "4621    False\n",
      "Name: item_price, Length: 4622, dtype: bool\n"
     ]
    }
   ],
   "source": [
    "df['item_price'] = df['item_price'].apply(lambda x: float(x[1:-1]))\n",
    "print(df['item_price']>10)"
   ]
  },
  {
   "cell_type": "code",
   "execution_count": 1,
   "id": "b3f2ad2f",
   "metadata": {},
   "outputs": [
    {
     "ename": "NameError",
     "evalue": "name 'df' is not defined",
     "output_type": "error",
     "traceback": [
      "\u001b[0;31m---------------------------------------------------------------------------\u001b[0m",
      "\u001b[0;31mNameError\u001b[0m                                 Traceback (most recent call last)",
      "Input \u001b[0;32mIn [1]\u001b[0m, in \u001b[0;36m<cell line: 1>\u001b[0;34m()\u001b[0m\n\u001b[0;32m----> 1\u001b[0m \u001b[38;5;28mprint\u001b[39m(\u001b[43mdf\u001b[49m[[\u001b[38;5;124m'\u001b[39m\u001b[38;5;124mitem_price\u001b[39m\u001b[38;5;124m'\u001b[39m,\u001b[38;5;124m'\u001b[39m\u001b[38;5;124mitem_name\u001b[39m\u001b[38;5;124m'\u001b[39m]])\n",
      "\u001b[0;31mNameError\u001b[0m: name 'df' is not defined"
     ]
    }
   ],
   "source": [
    "print(al[['item_price','item_name']])"
   ]
  },
  {
   "cell_type": "code",
   "execution_count": null,
   "id": "51a753a8",
   "metadata": {},
   "outputs": [],
   "source": []
  }
 ],
 "metadata": {
  "kernelspec": {
   "display_name": "Python 3 (ipykernel)",
   "language": "python",
   "name": "python3"
  },
  "language_info": {
   "codemirror_mode": {
    "name": "ipython",
    "version": 3
   },
   "file_extension": ".py",
   "mimetype": "text/x-python",
   "name": "python",
   "nbconvert_exporter": "python",
   "pygments_lexer": "ipython3",
   "version": "3.10.5"
  }
 },
 "nbformat": 4,
 "nbformat_minor": 5
}
